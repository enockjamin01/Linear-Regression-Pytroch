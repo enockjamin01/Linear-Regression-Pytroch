{
 "cells": [
  {
   "cell_type": "code",
   "execution_count": 1,
   "id": "78b6894d",
   "metadata": {},
   "outputs": [],
   "source": [
    "import numpy as np\n",
    "import matplotlib.pyplot as ppt\n",
    "import torch.nn as nn\n",
    "import torch"
   ]
  },
  {
   "cell_type": "code",
   "execution_count": 59,
   "id": "ae50a260",
   "metadata": {},
   "outputs": [],
   "source": [
    "#Training Data\n",
    "X=torch.linspace(1,50,50)"
   ]
  },
  {
   "cell_type": "code",
   "execution_count": 60,
   "id": "069ad90e",
   "metadata": {},
   "outputs": [
    {
     "data": {
      "text/plain": [
       "tensor([ 1.,  2.,  3.,  4.,  5.,  6.,  7.,  8.,  9., 10., 11., 12., 13., 14.,\n",
       "        15., 16., 17., 18., 19., 20., 21., 22., 23., 24., 25., 26., 27., 28.,\n",
       "        29., 30., 31., 32., 33., 34., 35., 36., 37., 38., 39., 40., 41., 42.,\n",
       "        43., 44., 45., 46., 47., 48., 49., 50.])"
      ]
     },
     "execution_count": 60,
     "metadata": {},
     "output_type": "execute_result"
    }
   ],
   "source": [
    "X"
   ]
  },
  {
   "cell_type": "code",
   "execution_count": 11,
   "id": "40183f5c",
   "metadata": {},
   "outputs": [],
   "source": [
    "#Create Noise\n",
    "E=torch.randint(low=-8,high=10,size=(1,50),dtype=torch.float)"
   ]
  },
  {
   "cell_type": "code",
   "execution_count": 12,
   "id": "dd9456d2",
   "metadata": {},
   "outputs": [
    {
     "data": {
      "text/plain": [
       "tensor([[-1., -7.,  4.,  6.,  6.,  2., -2., -4., -8.,  6., -6., -2., -8., -4.,\n",
       "         -1.,  7., -2.,  1., -5.,  8.,  5.,  2.,  8., -4.,  7.,  6.,  5.,  5.,\n",
       "         -6., -2.,  3., -6., -6.,  5.,  1., -8.,  4., -8.,  4., -1., -8.,  7.,\n",
       "          9., -2.,  4.,  5., -6.,  9.,  4., -2.]])"
      ]
     },
     "execution_count": 12,
     "metadata": {},
     "output_type": "execute_result"
    }
   ],
   "source": [
    "E"
   ]
  },
  {
   "cell_type": "code",
   "execution_count": 13,
   "id": "6c0827c0",
   "metadata": {},
   "outputs": [],
   "source": [
    "#True Value\n",
    "W=2\n",
    "B=1\n",
    "Y=W*X+B"
   ]
  },
  {
   "cell_type": "code",
   "execution_count": 14,
   "id": "128940d2",
   "metadata": {},
   "outputs": [
    {
     "data": {
      "text/plain": [
       "tensor([  3.,   5.,   7.,   9.,  11.,  13.,  15.,  17.,  19.,  21.,  23.,  25.,\n",
       "         27.,  29.,  31.,  33.,  35.,  37.,  39.,  41.,  43.,  45.,  47.,  49.,\n",
       "         51.,  53.,  55.,  57.,  59.,  61.,  63.,  65.,  67.,  69.,  71.,  73.,\n",
       "         75.,  77.,  79.,  81.,  83.,  85.,  87.,  89.,  91.,  93.,  95.,  97.,\n",
       "         99., 101.])"
      ]
     },
     "execution_count": 14,
     "metadata": {},
     "output_type": "execute_result"
    }
   ],
   "source": [
    "Y"
   ]
  },
  {
   "cell_type": "code",
   "execution_count": 15,
   "id": "e54bb080",
   "metadata": {},
   "outputs": [
    {
     "data": {
      "image/png": "[encoded data removed]",
      "text/plain": [
       "<Figure size 432x288 with 1 Axes>"
      ]
     },
     "metadata": {
      "needs_background": "light"
     },
     "output_type": "display_data"
    }
   ],
   "source": [
    "#Scatter without Noise\n",
    "ppt.scatter(X.numpy(),Y.numpy())\n",
    "ppt.xlabel(\"Training Value\")\n",
    "ppt.ylabel(\"True Value\")\n",
    "ppt.show()"
   ]
  },
  {
   "cell_type": "code",
   "execution_count": 16,
   "id": "624c5133",
   "metadata": {},
   "outputs": [],
   "source": [
    "#Add True value with noise\n",
    "Y=W*X+B+E"
   ]
  },
  {
   "cell_type": "code",
   "execution_count": 17,
   "id": "a53dc0ee",
   "metadata": {},
   "outputs": [
    {
     "data": {
      "text/plain": [
       "tensor([[  2.,  -2.,  11.,  15.,  17.,  15.,  13.,  13.,  11.,  27.,  17.,  23.,\n",
       "          19.,  25.,  30.,  40.,  33.,  38.,  34.,  49.,  48.,  47.,  55.,  45.,\n",
       "          58.,  59.,  60.,  62.,  53.,  59.,  66.,  59.,  61.,  74.,  72.,  65.,\n",
       "          79.,  69.,  83.,  80.,  75.,  92.,  96.,  87.,  95.,  98.,  89., 106.,\n",
       "         103.,  99.]])"
      ]
     },
     "execution_count": 17,
     "metadata": {},
     "output_type": "execute_result"
    }
   ],
   "source": [
    "Y"
   ]
  },
  {
   "cell_type": "code",
   "execution_count": 18,
   "id": "cfd8bd42",
   "metadata": {},
   "outputs": [
    {
     "data": {
      "image/png": "[encoded data removed]",
      "text/plain": [
       "<Figure size 432x288 with 1 Axes>"
      ]
     },
     "metadata": {
      "needs_background": "light"
     },
     "output_type": "display_data"
    }
   ],
   "source": [
    "#Scatter Plot with noise\n",
    "ppt.scatter(X.numpy(),Y.numpy())\n",
    "ppt.xlabel(\"Training Value\")\n",
    "ppt.ylabel(\"True Value\")\n",
    "ppt.show()"
   ]
  },
  {
   "cell_type": "code",
   "execution_count": 102,
   "id": "e4073639",
   "metadata": {},
   "outputs": [],
   "source": [
    "#Create a Linear model\n",
    "class LModel(nn.Module):\n",
    "    def __init__(self,in_f,out_f):\n",
    "        super().__init__()\n",
    "        self.linear=nn.Linear(in_features=in_f,out_features=out_f)\n",
    "        \n",
    "    \n",
    "    def forward(self,training_data):\n",
    "        prediction=self.linear(training_data)\n",
    "        return prediction"
   ]
  },
  {
   "cell_type": "code",
   "execution_count": 103,
   "id": "f6f7a2b4",
   "metadata": {},
   "outputs": [],
   "source": [
    "#Create a Model instance\n",
    "linear_model=LModel(1,1)"
   ]
  },
  {
   "cell_type": "code",
   "execution_count": 104,
   "id": "884c5dee",
   "metadata": {},
   "outputs": [
    {
     "name": "stdout",
     "output_type": "stream",
     "text": [
      "linear.weight \t -0.3441992998123169\n",
      "linear.bias \t 0.3417891263961792\n"
     ]
    }
   ],
   "source": [
    "#Get the parameters for the model\n",
    "for name,param in linear_model.named_parameters():\n",
    "    print(f'{name} \\t {param.item()}')"
   ]
  },
  {
   "cell_type": "code",
   "execution_count": 105,
   "id": "90b11f7c",
   "metadata": {},
   "outputs": [],
   "source": [
    "#Passing Data to the model to check its preditions before training\n",
    "x_checking_data=np.linspace(0.0,50.0)"
   ]
  },
  {
   "cell_type": "code",
   "execution_count": 106,
   "id": "27d6cc5b",
   "metadata": {},
   "outputs": [
    {
     "data": {
      "text/plain": [
       "array([ 0.        ,  1.02040816,  2.04081633,  3.06122449,  4.08163265,\n",
       "        5.10204082,  6.12244898,  7.14285714,  8.16326531,  9.18367347,\n",
       "       10.20408163, 11.2244898 , 12.24489796, 13.26530612, 14.28571429,\n",
       "       15.30612245, 16.32653061, 17.34693878, 18.36734694, 19.3877551 ,\n",
       "       20.40816327, 21.42857143, 22.44897959, 23.46938776, 24.48979592,\n",
       "       25.51020408, 26.53061224, 27.55102041, 28.57142857, 29.59183673,\n",
       "       30.6122449 , 31.63265306, 32.65306122, 33.67346939, 34.69387755,\n",
       "       35.71428571, 36.73469388, 37.75510204, 38.7755102 , 39.79591837,\n",
       "       40.81632653, 41.83673469, 42.85714286, 43.87755102, 44.89795918,\n",
       "       45.91836735, 46.93877551, 47.95918367, 48.97959184, 50.        ])"
      ]
     },
     "execution_count": 106,
     "metadata": {},
     "output_type": "execute_result"
    }
   ],
   "source": [
    "x_checking_data"
   ]
  },
  {
   "cell_type": "code",
   "execution_count": 107,
   "id": "c50b72d7",
   "metadata": {},
   "outputs": [],
   "source": [
    "#Get the first weight and bias\n",
    "wf=0.6220\n",
    "bf=-0.985"
   ]
  },
  {
   "cell_type": "code",
   "execution_count": 108,
   "id": "c6f6156f",
   "metadata": {},
   "outputs": [],
   "source": [
    "#Check the predicted data\n",
    "yf=x_checking_data*wf+bf"
   ]
  },
  {
   "cell_type": "code",
   "execution_count": 109,
   "id": "0b04a9ed",
   "metadata": {},
   "outputs": [
    {
     "data": {
      "text/plain": [
       "array([-0.985     , -0.35030612,  0.28438776,  0.91908163,  1.55377551,\n",
       "        2.18846939,  2.82316327,  3.45785714,  4.09255102,  4.7272449 ,\n",
       "        5.36193878,  5.99663265,  6.63132653,  7.26602041,  7.90071429,\n",
       "        8.53540816,  9.17010204,  9.80479592, 10.4394898 , 11.07418367,\n",
       "       11.70887755, 12.34357143, 12.97826531, 13.61295918, 14.24765306,\n",
       "       14.88234694, 15.51704082, 16.15173469, 16.78642857, 17.42112245,\n",
       "       18.05581633, 18.6905102 , 19.32520408, 19.95989796, 20.59459184,\n",
       "       21.22928571, 21.86397959, 22.49867347, 23.13336735, 23.76806122,\n",
       "       24.4027551 , 25.03744898, 25.67214286, 26.30683673, 26.94153061,\n",
       "       27.57622449, 28.21091837, 28.84561224, 29.48030612, 30.115     ])"
      ]
     },
     "execution_count": 109,
     "metadata": {},
     "output_type": "execute_result"
    }
   ],
   "source": [
    "yf"
   ]
  },
  {
   "cell_type": "code",
   "execution_count": 110,
   "id": "6773a7cb",
   "metadata": {},
   "outputs": [
    {
     "data": {
      "image/png": "[encoded data removed]",
      "text/plain": [
       "<Figure size 432x288 with 1 Axes>"
      ]
     },
     "metadata": {
      "needs_background": "light"
     },
     "output_type": "display_data"
    }
   ],
   "source": [
    "#Scatter and Plot of the predicted data and scatter true data with error\n",
    "ppt.scatter(X.numpy(),Y.numpy())\n",
    "ppt.plot(x_checking_data,yf,'r')\n",
    "ppt.xlabel(\"Training data and Checking data\")\n",
    "ppt.ylabel(\"True value and Preducted value\")\n",
    "ppt.show()"
   ]
  },
  {
   "cell_type": "code",
   "execution_count": 111,
   "id": "0e36c02c",
   "metadata": {},
   "outputs": [],
   "source": [
    "#Set Epoch value (The number of rounds the model should be trained)\n",
    "epoch=70"
   ]
  },
  {
   "cell_type": "code",
   "execution_count": 112,
   "id": "63723922",
   "metadata": {},
   "outputs": [],
   "source": [
    "#Create a Gradient Scale (Stochastic Gradient Descent)\n",
    "optimiser=torch.optim.SGD(linear_model.parameters(),lr=0.001)"
   ]
  },
  {
   "cell_type": "code",
   "execution_count": 113,
   "id": "33c0aebb",
   "metadata": {},
   "outputs": [],
   "source": [
    "#Create a Cost Function object (Mean Square Error)\n",
    "cretition=nn.MSELoss()"
   ]
  },
  {
   "cell_type": "code",
   "execution_count": 114,
   "id": "3a33e75d",
   "metadata": {},
   "outputs": [],
   "source": [
    "#Create Loss variable\n",
    "losses=[]"
   ]
  },
  {
   "cell_type": "code",
   "execution_count": 115,
   "id": "2bddc6c9",
   "metadata": {},
   "outputs": [
    {
     "name": "stdout",
     "output_type": "stream",
     "text": [
      "1 epoch: loss: 4921.326171875 weight: -0.3441992998123169 bias: 0.3417891263961792\n",
      "2 epoch: loss: 2554.513671875 weight: 3.7547998428344727 bias: 0.4636197090148926\n",
      "3 epoch: loss: 1332.6131591796875 weight: 0.8096036911010742 bias: 0.37615767121315\n",
      "4 epoch: loss: 701.789306640625 weight: 2.9257702827453613 bias: 0.4390755891799927\n",
      "5 epoch: loss: 376.117431640625 weight: 1.405269742012024 bias: 0.3939431607723236\n",
      "6 epoch: loss: 207.98458862304688 weight: 2.4977705478668213 bias: 0.4264465272426605\n",
      "7 epoch: loss: 121.18360137939453 weight: 1.71278977394104 bias: 0.40316733717918396\n",
      "8 epoch: loss: 76.37138366699219 weight: 2.276808261871338 bias: 0.41996872425079346\n",
      "9 epoch: loss: 53.236419677734375 weight: 1.8715500831604004 bias: 0.4079715609550476\n",
      "10 epoch: loss: 41.292625427246094 weight: 2.162731885910034 bias: 0.41666656732559204\n",
      "11 epoch: loss: 35.12651824951172 weight: 1.9535112380981445 bias: 0.4104939103126526\n",
      "12 epoch: loss: 31.943161010742188 weight: 2.103837251663208 bias: 0.41500383615493774\n",
      "13 epoch: loss: 30.299711227416992 weight: 1.995823621749878 bias: 0.4118381440639496\n",
      "14 epoch: loss: 29.451265335083008 weight: 2.0734307765960693 bias: 0.4141874611377716\n",
      "15 epoch: loss: 29.01323699951172 weight: 2.0176665782928467 bias: 0.4125741124153137\n",
      "16 epoch: loss: 28.7871036529541 weight: 2.057731866836548 bias: 0.4138079583644867\n",
      "17 epoch: loss: 28.67035484313965 weight: 2.028942108154297 bias: 0.4129960238933563\n",
      "18 epoch: loss: 28.610074996948242 weight: 2.049625873565674 bias: 0.41365399956703186\n",
      "19 epoch: loss: 28.578962326049805 weight: 2.034761905670166 bias: 0.4132557809352875\n",
      "20 epoch: loss: 28.562894821166992 weight: 2.0454397201538086 bias: 0.413616418838501\n",
      "21 epoch: loss: 28.554594039916992 weight: 2.0377652645111084 bias: 0.4134317636489868\n",
      "22 epoch: loss: 28.550315856933594 weight: 2.0432772636413574 bias: 0.4136388599872589\n",
      "23 epoch: loss: 28.548107147216797 weight: 2.0393147468566895 bias: 0.41356444358825684\n",
      "24 epoch: loss: 28.546958923339844 weight: 2.0421595573425293 bias: 0.41369226574897766\n",
      "25 epoch: loss: 28.546369552612305 weight: 2.0401134490966797 bias: 0.4136747419834137\n",
      "26 epoch: loss: 28.546064376831055 weight: 2.041581392288208 bias: 0.41376161575317383\n",
      "27 epoch: loss: 28.5459041595459 weight: 2.0405242443084717 bias: 0.41377344727516174\n",
      "28 epoch: loss: 28.545825958251953 weight: 2.0412817001342773 bias: 0.4138391613960266\n",
      "29 epoch: loss: 28.545774459838867 weight: 2.0407352447509766 bias: 0.4138661026954651\n",
      "30 epoch: loss: 28.545751571655273 weight: 2.041125774383545 bias: 0.41392087936401367\n",
      "31 epoch: loss: 28.54574203491211 weight: 2.0408430099487305 bias: 0.4139556288719177\n",
      "32 epoch: loss: 28.545726776123047 weight: 2.041043758392334 bias: 0.41400471329689026\n",
      "33 epoch: loss: 28.545730590820312 weight: 2.0408973693847656 bias: 0.41404348611831665\n",
      "34 epoch: loss: 28.545726776123047 weight: 2.0410003662109375 bias: 0.4140896201133728\n",
      "35 epoch: loss: 28.54572105407715 weight: 2.040924072265625 bias: 0.41413041949272156\n",
      "36 epoch: loss: 28.54572296142578 weight: 2.0409767627716064 bias: 0.41417503356933594\n",
      "37 epoch: loss: 28.54572105407715 weight: 2.0409367084503174 bias: 0.41421687602996826\n",
      "38 epoch: loss: 28.54571533203125 weight: 2.0409634113311768 bias: 0.4142606854438782\n",
      "39 epoch: loss: 28.54571533203125 weight: 2.0409419536590576 bias: 0.4143030345439911\n",
      "40 epoch: loss: 28.54570960998535 weight: 2.040955066680908 bias: 0.4143463969230652\n",
      "41 epoch: loss: 28.54570770263672 weight: 2.0409436225891113 bias: 0.4143889844417572\n",
      "42 epoch: loss: 28.545703887939453 weight: 2.040949583053589 bias: 0.4144320785999298\n",
      "43 epoch: loss: 28.545703887939453 weight: 2.040943145751953 bias: 0.4144747853279114\n",
      "44 epoch: loss: 28.54570960998535 weight: 2.040945529937744 bias: 0.41451773047447205\n",
      "45 epoch: loss: 28.545700073242188 weight: 2.0409414768218994 bias: 0.414560467004776\n",
      "46 epoch: loss: 28.545700073242188 weight: 2.040942430496216 bias: 0.4146033227443695\n",
      "47 epoch: loss: 28.545698165893555 weight: 2.0409395694732666 bias: 0.41464605927467346\n",
      "48 epoch: loss: 28.545696258544922 weight: 2.0409395694732666 bias: 0.4146888554096222\n",
      "49 epoch: loss: 28.545698165893555 weight: 2.0409371852874756 bias: 0.41473156213760376\n",
      "50 epoch: loss: 28.545692443847656 weight: 2.0409367084503174 bias: 0.4147742986679077\n",
      "51 epoch: loss: 28.545692443847656 weight: 2.0409348011016846 bias: 0.4148169755935669\n",
      "52 epoch: loss: 28.54568862915039 weight: 2.0409340858459473 bias: 0.4148596525192261\n",
      "53 epoch: loss: 28.54568862915039 weight: 2.0409324169158936 bias: 0.41490229964256287\n",
      "54 epoch: loss: 28.545692443847656 weight: 2.040931463241577 bias: 0.41494494676589966\n",
      "55 epoch: loss: 28.545682907104492 weight: 2.0409297943115234 bias: 0.41498756408691406\n",
      "56 epoch: loss: 28.54568099975586 weight: 2.040929079055786 bias: 0.41503018140792847\n",
      "57 epoch: loss: 28.54568099975586 weight: 2.0409271717071533 bias: 0.4150727391242981\n",
      "58 epoch: loss: 28.545679092407227 weight: 2.040926694869995 bias: 0.4151152968406677\n",
      "59 epoch: loss: 28.54568099975586 weight: 2.0409247875213623 bias: 0.4151577949523926\n",
      "60 epoch: loss: 28.545679092407227 weight: 2.040923833847046 bias: 0.4152003228664398\n",
      "61 epoch: loss: 28.545677185058594 weight: 2.0409224033355713 bias: 0.4152428209781647\n",
      "62 epoch: loss: 28.545669555664062 weight: 2.040921211242676 bias: 0.41528528928756714\n",
      "63 epoch: loss: 28.545669555664062 weight: 2.0409200191497803 bias: 0.4153277277946472\n",
      "64 epoch: loss: 28.545665740966797 weight: 2.0409185886383057 bias: 0.4153701364994049\n",
      "65 epoch: loss: 28.545663833618164 weight: 2.0409176349639893 bias: 0.4154125452041626\n",
      "66 epoch: loss: 28.545671463012695 weight: 2.0409159660339355 bias: 0.4154549241065979\n",
      "67 epoch: loss: 28.54566192626953 weight: 2.040915012359619 bias: 0.4154973030090332\n",
      "68 epoch: loss: 28.545663833618164 weight: 2.0409135818481445 bias: 0.4155396521091461\n",
      "69 epoch: loss: 28.5456600189209 weight: 2.040912389755249 bias: 0.41558197140693665\n",
      "70 epoch: loss: 28.545663833618164 weight: 2.0409111976623535 bias: 0.4156242907047272\n"
     ]
    }
   ],
   "source": [
    "#Train the model with training data\n",
    "for each_epoch in range(epoch):\n",
    "    each_epoch+=1\n",
    "    #Train the model and predict using linear object\n",
    "    predition=linear_model.forward(X.reshape(-1,1))\n",
    "    #get losses for each predition\n",
    "    loss=cretition(predition,Y.reshape(-1,1))\n",
    "    #print the losses\n",
    "    print(f'{each_epoch} epoch: loss: {loss.item()} weight: {linear_model.linear.weight.item()} bias: {linear_model.linear.bias.item()}')\n",
    "    #append the losses\n",
    "    losses.append(loss)\n",
    "    #Set Gradient to zero to prevent overwritting or compounding\n",
    "    optimiser.zero_grad()\n",
    "    #Do backpropogation with loss\n",
    "    loss.backward()\n",
    "    #Step the gradient\n",
    "    optimiser.step()"
   ]
  },
  {
   "cell_type": "code",
   "execution_count": 116,
   "id": "e8a5943d",
   "metadata": {},
   "outputs": [
    {
     "data": {
      "text/plain": [
       "Text(0, 0.5, 'Error')"
      ]
     },
     "execution_count": 116,
     "metadata": {},
     "output_type": "execute_result"
    },
    {
     "data": {
      "image/png": "[encoded data removed]",
      "text/plain": [
       "<Figure size 432x288 with 1 Axes>"
      ]
     },
     "metadata": {
      "needs_background": "light"
     },
     "output_type": "display_data"
    }
   ],
   "source": [
    "#Get Epoch graph\n",
    "ppt.plot(range(epoch),torch.tensor(losses,requires_grad=False))\n",
    "ppt.xlabel(\"Epoch\")\n",
    "ppt.ylabel(\"Error\")"
   ]
  },
  {
   "cell_type": "code",
   "execution_count": 173,
   "id": "5fe3af94",
   "metadata": {},
   "outputs": [],
   "source": [
    "#Test the model with a test data\n",
    "x=torch.linspace(1,50,100)"
   ]
  },
  {
   "cell_type": "code",
   "execution_count": 174,
   "id": "5d14e524",
   "metadata": {},
   "outputs": [
    {
     "data": {
      "text/plain": [
       "tensor([ 1.0000,  1.4949,  1.9899,  2.4848,  2.9798,  3.4747,  3.9697,  4.4646,\n",
       "         4.9596,  5.4545,  5.9495,  6.4444,  6.9394,  7.4343,  7.9293,  8.4242,\n",
       "         8.9192,  9.4141,  9.9091, 10.4040, 10.8990, 11.3939, 11.8889, 12.3838,\n",
       "        12.8788, 13.3737, 13.8687, 14.3636, 14.8586, 15.3535, 15.8485, 16.3434,\n",
       "        16.8384, 17.3333, 17.8283, 18.3232, 18.8182, 19.3131, 19.8081, 20.3030,\n",
       "        20.7980, 21.2929, 21.7879, 22.2828, 22.7778, 23.2727, 23.7677, 24.2626,\n",
       "        24.7576, 25.2525, 25.7475, 26.2424, 26.7374, 27.2323, 27.7273, 28.2222,\n",
       "        28.7172, 29.2121, 29.7071, 30.2020, 30.6970, 31.1919, 31.6869, 32.1818,\n",
       "        32.6768, 33.1717, 33.6667, 34.1616, 34.6566, 35.1515, 35.6465, 36.1414,\n",
       "        36.6364, 37.1313, 37.6263, 38.1212, 38.6162, 39.1111, 39.6061, 40.1010,\n",
       "        40.5960, 41.0909, 41.5859, 42.0808, 42.5758, 43.0707, 43.5657, 44.0606,\n",
       "        44.5556, 45.0505, 45.5455, 46.0404, 46.5354, 47.0303, 47.5253, 48.0202,\n",
       "        48.5152, 49.0101, 49.5051, 50.0000])"
      ]
     },
     "execution_count": 174,
     "metadata": {},
     "output_type": "execute_result"
    }
   ],
   "source": [
    "x"
   ]
  },
  {
   "cell_type": "code",
   "execution_count": 175,
   "id": "25144a36",
   "metadata": {},
   "outputs": [
    {
     "data": {
      "text/plain": [
       "tensor([  2.4566,   3.4667,   4.4769,   5.4870,   6.4972,   7.5073,   8.5175,\n",
       "          9.5276,  10.5378,  11.5479,  12.5580,  13.5682,  14.5783,  15.5885,\n",
       "         16.5986,  17.6088,  18.6189,  19.6291,  20.6392,  21.6494,  22.6595,\n",
       "         23.6697,  24.6798,  25.6900,  26.7001,  27.7103,  28.7204,  29.7306,\n",
       "         30.7407,  31.7508,  32.7610,  33.7711,  34.7813,  35.7914,  36.8016,\n",
       "         37.8117,  38.8219,  39.8320,  40.8422,  41.8523,  42.8625,  43.8726,\n",
       "         44.8828,  45.8929,  46.9031,  47.9132,  48.9233,  49.9335,  50.9436,\n",
       "         51.9538,  52.9639,  53.9741,  54.9842,  55.9944,  57.0045,  58.0147,\n",
       "         59.0248,  60.0350,  61.0451,  62.0553,  63.0654,  64.0756,  65.0857,\n",
       "         66.0959,  67.1060,  68.1161,  69.1263,  70.1364,  71.1466,  72.1567,\n",
       "         73.1669,  74.1770,  75.1872,  76.1973,  77.2075,  78.2176,  79.2278,\n",
       "         80.2379,  81.2481,  82.2582,  83.2684,  84.2785,  85.2887,  86.2988,\n",
       "         87.3089,  88.3191,  89.3292,  90.3394,  91.3495,  92.3597,  93.3698,\n",
       "         94.3800,  95.3901,  96.4003,  97.4104,  98.4206,  99.4307, 100.4409,\n",
       "        101.4510, 102.4612])"
      ]
     },
     "execution_count": 175,
     "metadata": {},
     "output_type": "execute_result"
    }
   ],
   "source": [
    "#Test the data in linear regression using the latest weight and bias\n",
    "y=x*linear_model.linear.weight.item()+linear_model.linear.bias.item()\n",
    "y"
   ]
  },
  {
   "cell_type": "code",
   "execution_count": 176,
   "id": "2de5621e",
   "metadata": {},
   "outputs": [
    {
     "data": {
      "image/png": "[encoded data removed]",
      "text/plain": [
       "<Figure size 432x288 with 1 Axes>"
      ]
     },
     "metadata": {
      "needs_background": "light"
     },
     "output_type": "display_data"
    }
   ],
   "source": [
    "#Scatter and Plot of the predicted data and scatter true data with error\n",
    "ppt.scatter(X.numpy(),Y.numpy())\n",
    "ppt.plot(x,y,'g')\n",
    "ppt.xlabel(\"Training data and Testing data\")\n",
    "ppt.ylabel(\"True value and Preducted value\")\n",
    "ppt.show()"
   ]
  },
  {
   "cell_type": "code",
   "execution_count": null,
   "id": "7ed22dd0",
   "metadata": {},
   "outputs": [],
   "source": []
  },
  {
   "cell_type": "code",
   "execution_count": null,
   "id": "b06dcf7c",
   "metadata": {},
   "outputs": [],
   "source": []
  }
 ],
 "metadata": {
  "kernelspec": {
   "display_name": "Python 3 (ipykernel)",
   "language": "python",
   "name": "python3"
  },
  "language_info": {
   "codemirror_mode": {
    "name": "ipython",
    "version": 3
   },
   "file_extension": ".py",
   "mimetype": "text/x-python",
   "name": "python",
   "nbconvert_exporter": "python",
   "pygments_lexer": "ipython3",
   "version": "3.10.4"
  }
 },
 "nbformat": 4,
 "nbformat_minor": 5
}
